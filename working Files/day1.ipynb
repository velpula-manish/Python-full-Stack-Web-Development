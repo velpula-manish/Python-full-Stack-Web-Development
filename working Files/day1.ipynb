{
 "cells": [
  {
   "cell_type": "code",
   "execution_count": 2,
   "id": "cb6a8020",
   "metadata": {},
   "outputs": [
    {
     "name": "stdout",
     "output_type": "stream",
     "text": [
      "Python Programming\n",
      "Python Programming\n"
     ]
    }
   ],
   "source": [
    "x = \"Python\"\n",
    "y = \"Programming\" \n",
    "print(x,y)\n",
    "print(x + \" \" + y)"
   ]
  },
  {
   "cell_type": "code",
   "execution_count": 3,
   "id": "19a549ac",
   "metadata": {},
   "outputs": [
    {
     "name": "stdout",
     "output_type": "stream",
     "text": [
      "HELLO WORLD\n"
     ]
    }
   ],
   "source": [
    "print(\"HELLO WORLD\");"
   ]
  },
  {
   "cell_type": "code",
   "execution_count": null,
   "id": "cfea74fc",
   "metadata": {},
   "outputs": [],
   "source": [
    "\"\"\"\"\n",
    "Additon == +\n",
    "Subtraction == -\n",
    "Multiplication == *\n",
    "Division\n",
    "Modulo\n",
    "\"\"\""
   ]
  },
  {
   "cell_type": "markdown",
   "id": "2aa9568d",
   "metadata": {},
   "source": [
    "Additon == +\n",
    "Subtraction == -\n",
    "Multiplication == *\n",
    "Division == /\n",
    "Modulo == %\n",
    "Quotient == //"
   ]
  },
  {
   "cell_type": "code",
   "execution_count": 18,
   "id": "4718b6fe",
   "metadata": {},
   "outputs": [
    {
     "name": "stdout",
     "output_type": "stream",
     "text": [
      "15\n",
      "5\n",
      "False\n",
      "True\n",
      "False\n",
      "True\n",
      "False\n",
      "True\n",
      "True\n",
      "True\n",
      "True\n"
     ]
    }
   ],
   "source": [
    "a = 10\n",
    "b = 5\n",
    "c = 4\n",
    "print(a+b)\n",
    "print(a-b)\n",
    "\n",
    "# Comparision Operator\n",
    "print(a==b)\n",
    "print(a>b)\n",
    "print(a<b)\n",
    "print(a>=b)\n",
    "print(a<=b)\n",
    "print(a!=b)\n",
    "\n",
    "# Logical Operator\n",
    "print((a>=b) and (a>=c))\n",
    "print((a>=b) or (a>=c))\n",
    "print(not(a==b))\n"
   ]
  },
  {
   "cell_type": "markdown",
   "id": "299a072a",
   "metadata": {},
   "source": [
    "Comparision operators:\n",
    "print(a==b)\n",
    "print(a>b)\n",
    "print(a<b)\n",
    "print(a>=b)\n",
    "print(a<=b)\n",
    "print(a!=b)"
   ]
  },
  {
   "cell_type": "code",
   "execution_count": 19,
   "id": "05872815",
   "metadata": {},
   "outputs": [
    {
     "name": "stdout",
     "output_type": "stream",
     "text": [
      "3.0\n"
     ]
    }
   ],
   "source": [
    "# Write a Python Programming to find area of a triangle\n",
    "base = int(input (\"base of thr triangle\"))\n",
    "height = int(input (\"height\"))\n",
    "area = 0.5* base *height\n",
    "print(area)\n"
   ]
  },
  {
   "cell_type": "code",
   "execution_count": 20,
   "id": "d4924785",
   "metadata": {},
   "outputs": [
    {
     "data": {
      "text/plain": [
       "int"
      ]
     },
     "execution_count": 20,
     "metadata": {},
     "output_type": "execute_result"
    }
   ],
   "source": [
    "z = \"5\"\n",
    "z = int (z)\n",
    "type(z)"
   ]
  },
  {
   "cell_type": "code",
   "execution_count": 22,
   "id": "6ed4a61f",
   "metadata": {},
   "outputs": [
    {
     "name": "stdout",
     "output_type": "stream",
     "text": [
      "num 1 = 5\n",
      "num 2 = 4\n"
     ]
    }
   ],
   "source": [
    "# Write  a program to swap two variables\n",
    "a =int(input (\"num 1\"))\n",
    "b =int(input (\"num 2\"))\n",
    "c = a\n",
    "a = b\n",
    "b = c\n",
    "print(\"num 1 =\",a)\n",
    "print(\"num 2 =\",b)\n",
    "a,b=b,a\n",
    "\n"
   ]
  },
  {
   "cell_type": "code",
   "execution_count": 24,
   "id": "de79aa15",
   "metadata": {},
   "outputs": [
    {
     "name": "stdout",
     "output_type": "stream",
     "text": [
      "2.3333333333333335\n"
     ]
    }
   ],
   "source": [
    "# Write a program to convert centimeter to feet\n",
    "centimeter =int(input(\"Enter the value for centimeter\"))\n",
    "feet =centimeter/30\n",
    "print(feet)"
   ]
  },
  {
   "cell_type": "code",
   "execution_count": 25,
   "id": "054d6003",
   "metadata": {},
   "outputs": [],
   "source": [
    "# Write a Python program to check if a Number is positive,negative and zero\n"
   ]
  },
  {
   "cell_type": "code",
   "execution_count": 33,
   "id": "b01e3845",
   "metadata": {},
   "outputs": [
    {
     "name": "stdout",
     "output_type": "stream",
     "text": [
      "0\n",
      "1\n",
      "1\n",
      "2\n",
      "3\n",
      "5\n",
      "8\n",
      "13\n",
      "21\n",
      "34\n",
      "55\n",
      "89\n",
      "144\n",
      "233\n",
      "377\n",
      "610\n",
      "987\n",
      "1597\n",
      "2584\n",
      "4181\n",
      "6765\n",
      "10946\n",
      "17711\n"
     ]
    }
   ],
   "source": [
    "# Find the first 20 fibonacci numbers\n",
    "\n",
    "a = 0\n",
    "b = 1\n",
    "print(a)\n",
    "print(b)\n",
    "c=0\n",
    "while(c<=20):\n",
    "    sum =a +b\n",
    "    print(sum)\n",
    "    a=b\n",
    "    b =sum\n",
    "    c= c+1\n"
   ]
  },
  {
   "cell_type": "code",
   "execution_count": 36,
   "id": "94c68070",
   "metadata": {},
   "outputs": [
    {
     "name": "stdout",
     "output_type": "stream",
     "text": [
      "0\n"
     ]
    }
   ],
   "source": [
    "# Write a python program to find the find Factorial of a number\n",
    "num = int(input(\"Number\"))\n",
    "i =num\n",
    "while (i<=num):\n",
    "    fact = num*(num-i)\n",
    "    i=i+1\n",
    "print(fact)"
   ]
  },
  {
   "cell_type": "code",
   "execution_count": 39,
   "id": "3825a6db",
   "metadata": {},
   "outputs": [
    {
     "name": "stdout",
     "output_type": "stream",
     "text": [
      "1\n",
      "2\n",
      "3\n",
      "4\n",
      "5\n"
     ]
    }
   ],
   "source": [
    "# write a python program to find factorial \n",
    "num =int(input(\"Enter the number\"))\n",
    "fact=1\n",
    "con =0\n",
    "i=0\n",
    "for i in range (1,num+1):\n",
    "    con = fact * i\n",
    "    print(con)\n",
    "\n"
   ]
  },
  {
   "cell_type": "code",
   "execution_count": 1,
   "id": "a91605ae",
   "metadata": {},
   "outputs": [
    {
     "data": {
      "text/plain": [
       "6"
      ]
     },
     "execution_count": 1,
     "metadata": {},
     "output_type": "execute_result"
    }
   ],
   "source": [
    "a=\"PYTHON\"\n",
    "len(a)"
   ]
  },
  {
   "cell_type": "code",
   "execution_count": 2,
   "id": "8c5ff2e5",
   "metadata": {},
   "outputs": [
    {
     "data": {
      "text/plain": [
       "'O'"
      ]
     },
     "execution_count": 2,
     "metadata": {},
     "output_type": "execute_result"
    }
   ],
   "source": [
    "a[4]"
   ]
  },
  {
   "cell_type": "code",
   "execution_count": 18,
   "id": "276bc8b5",
   "metadata": {},
   "outputs": [
    {
     "name": "stdout",
     "output_type": "stream",
     "text": [
      "Welcome to the second day of the class\n",
      "str[0:4] Welc\n",
      "str[5:10] me to\n",
      "str[:] Welcome to the second day of the class\n",
      "str[7:13:2]  ot\n",
      "str[-1] s\n",
      "str[-8:-3] he cl\n",
      "str[7:2:-1]  emoc\n",
      "str[::-1] ssalc eht fo yad dnoces eht ot emocleW\n",
      "str[0:7:][::-1] emocleW\n"
     ]
    }
   ],
   "source": [
    "str=\"Welcome to the second day of the class\"\n",
    "print (str)\n",
    "print (\"str[0:4]\",str[0:4])\n",
    "print (\"str[5:10]\",str[5:10])\n",
    "print (\"str[:]\",str[:])\n",
    "print (\"str[7:13:2]\",str[7:13:2])\n",
    "print (\"str[-1]\",str[-1])\n",
    "print (\"str[-8:-3]\",str[-8:-3])\n",
    "print (\"str[7:2:-1]\",str[7:2:-1])\n",
    "print (\"str[::-1]\",str[::-1])\n",
    "print (\"str[0:7:][::-1]\",str[0:7:][::-1])\n",
    "\n",
    "\n",
    "\n"
   ]
  },
  {
   "cell_type": "code",
   "execution_count": 38,
   "id": "d696cfdc",
   "metadata": {},
   "outputs": [
    {
     "name": "stdout",
     "output_type": "stream",
     "text": [
      "Please try again\n"
     ]
    }
   ],
   "source": [
    "str1=input(\"Enter a string\")\n",
    "if str1[:]==str[::-1]:\n",
    "    print(\"The given string is a Palindrome\")\n",
    "else:\n",
    "    print(\"Please try again\")\n"
   ]
  },
  {
   "cell_type": "code",
   "execution_count": null,
   "id": "714683fc",
   "metadata": {},
   "outputs": [
    {
     "name": "stdout",
     "output_type": "stream",
     "text": [
      "CASE SWITCHING\n",
      "sp = hello world I love Python Programming\n",
      "sp.upper = HELLO WORLD I LOVE PYTHON PROGRAMMING\n",
      "sp.lower = hello world i love python programming\n",
      "sp.title = Hello World I Love Python Programming\n",
      "sp.capitalize = Hello world i love python programming\n",
      "sp.casefold = hello world i love python programming\n",
      "sp.swapcase = HELLO WORLD i LOVE pYTHON pROGRAMMING\n"
     ]
    }
   ],
   "source": [
    "sp=\"hello world I love Python Programming\"\n",
    "print(\"CASE SWITCHING\")\n",
    "print(\"sp =\",sp)\n",
    "print(\"sp.upper =\",sp.upper())\n",
    "print(\"sp.lower =\",sp.lower())\n",
    "print(\"sp.title =\",sp.title())\n",
    "print(\"sp.capitalize =\",sp.capitalize())\n",
    "print(\"sp.casefold =\",sp.casefold())\n",
    "print(\"sp.swapcase =\",sp.swapcase())\n"
   ]
  },
  {
   "cell_type": "markdown",
   "id": "31c64d2d",
   "metadata": {},
   "source": []
  },
  {
   "cell_type": "code",
   "execution_count": 48,
   "id": "f2000f05",
   "metadata": {},
   "outputs": [
    {
     "name": "stdout",
     "output_type": "stream",
     "text": [
      "sa=\"V#ikas\"\n",
      "sa1=\" Sachin \"\n",
      "sa2= \" Virat \"\n",
      "sa3= \" Gopal Krishnan \"\n",
      "sa4 = \" Rohit Sharma \" \n",
      "sa.replace('#',' ')= V ikas\n",
      "sa1.strip()= Sachin\n",
      "sa2.lstrip()= Virat \n",
      "sa3.rstrip()=  Gopal Krishnan\n",
      "sa4.split()= ['Rohit', 'Sharma']\n"
     ]
    }
   ],
   "source": [
    "sa=\"V#ikas\"\n",
    "sa1=\" Sachin \"\n",
    "sa2= \" Virat \"\n",
    "sa3= \" Gopal Krishnan \"\n",
    "sa4 = \" Rohit Sharma \"\n",
    "print(\"\"\"sa=\"V#ikas\"\n",
    "sa1=\" Sachin \"\n",
    "sa2= \" Virat \"\n",
    "sa3= \" Gopal Krishnan \"\n",
    "sa4 = \" Rohit Sharma \" \"\"\")\n",
    "print(\"sa.replace('#',' ')=\",sa.replace('#',' '))\n",
    "print(\"sa1.strip()=\",sa1.strip())\n",
    "print(\"sa2.lstrip()=\",sa2.lstrip())\n",
    "print(\"sa3.rstrip()=\",sa3.rstrip())\n",
    "print(\"sa4.split()=\",sa4.split())\n",
    "\n"
   ]
  },
  {
   "cell_type": "code",
   "execution_count": 50,
   "id": "91976cb0",
   "metadata": {},
   "outputs": [
    {
     "name": "stdout",
     "output_type": "stream",
     "text": [
      "This is my Home where i left my friend's phone here\n"
     ]
    }
   ],
   "source": [
    "print(\"This is my Home where i left my friend's phone here\")#single quotes inside double quotes"
   ]
  },
  {
   "cell_type": "code",
   "execution_count": 51,
   "id": "9cdb56b0",
   "metadata": {},
   "outputs": [
    {
     "name": "stdout",
     "output_type": "stream",
     "text": [
      "The sales value for the month of October is Rs.20000\n",
      "The sales value for the month of October is Rs.20000\n"
     ]
    }
   ],
   "source": [
    "sales =20000\n",
    "month = \"October\"\n",
    "print(\"The sales value for the month of {} is Rs.{}\".format(month,sales))\n",
    "print(f\"The sales value for the month of {month} is Rs.{sales}\")"
   ]
  },
  {
   "cell_type": "code",
   "execution_count": 53,
   "id": "2f9f19df",
   "metadata": {},
   "outputs": [
    {
     "name": "stdout",
     "output_type": "stream",
     "text": [
      "G:/LPU\n"
     ]
    }
   ],
   "source": [
    "dir = \"G\"\n",
    "subdir = \"LPU\"\n",
    "h=f'{dir}:/{subdir}'\n",
    "print(h)"
   ]
  },
  {
   "cell_type": "code",
   "execution_count": 3,
   "id": "95ac8922",
   "metadata": {},
   "outputs": [
    {
     "name": "stdout",
     "output_type": "stream",
     "text": [
      "0\n",
      "1\n",
      "2\n",
      "3\n",
      "4\n",
      "6\n",
      "7\n"
     ]
    }
   ],
   "source": [
    "x=0\n",
    "while(x<=10):\n",
    "    if(x==5):\n",
    "        x=x+1\n",
    "        continue\n",
    "    if(x==8):\n",
    "        break\n",
    "    print(x)\n",
    "    x=x+1\n",
    "        "
   ]
  },
  {
   "cell_type": "code",
   "execution_count": 4,
   "id": "4b78e4eb",
   "metadata": {},
   "outputs": [
    {
     "name": "stdout",
     "output_type": "stream",
     "text": [
      "Grade C\n"
     ]
    }
   ],
   "source": [
    "marks= int(input(\"Enter your marks :\"))\n",
    "if((marks<100)and (marks>80)):\n",
    "    print(\"Grade A\")\n",
    "elif((marks<80)and (marks>60)):\n",
    "    print(\"Grade B\")\n",
    "elif((marks<60)and (marks>40)):\n",
    "    print(\"Grade C\")\n",
    "else:\n",
    "    print(\"Fail\")\n"
   ]
  },
  {
   "cell_type": "code",
   "execution_count": 10,
   "id": "36ed2eca",
   "metadata": {},
   "outputs": [
    {
     "name": "stdout",
     "output_type": "stream",
     "text": [
      "positive\n"
     ]
    }
   ],
   "source": [
    "#Write a Python Program to Check if a number is positive,negative or zero\n",
    "num=int(input(\"Enter num\"))\n",
    "if num>0:\n",
    "    print(\"positive\")\n",
    "elif num<0:\n",
    "    print(\"negative\")\n",
    "else:\n",
    "    print(\"zero\")"
   ]
  },
  {
   "cell_type": "code",
   "execution_count": 11,
   "id": "e04e7196",
   "metadata": {},
   "outputs": [
    {
     "name": "stdout",
     "output_type": "stream",
     "text": [
      "5 is a Prime number\n"
     ]
    }
   ],
   "source": [
    "#write a Python Program to Check a Number is prime number or not\n",
    "num = int(input(\"Enter\"))\n",
    "for i in (range(2,num)):\n",
    "    if num%i==0:\n",
    "        print(f'{num} is not a Prime number')\n",
    "print(f'{num} is a Prime number')"
   ]
  },
  {
   "cell_type": "code",
   "execution_count": 5,
   "id": "5c4e8e68",
   "metadata": {},
   "outputs": [
    {
     "name": "stdout",
     "output_type": "stream",
     "text": [
      "Num is not prime\n"
     ]
    }
   ],
   "source": [
    "#write a Python Program to Check a Number is prime number or not\n",
    "num = int(input(\"Enter\"))\n",
    "\n",
    "for i in (range(2,num)):\n",
    "    if num%i==0:\n",
    "        flag =False\n",
    "if flag == True:\n",
    "     print(\"Num is prime\")\n",
    "else:\n",
    "    print(\"Num is not prime\")\n",
    "    "
   ]
  },
  {
   "cell_type": "code",
   "execution_count": 4,
   "id": "e7c64a6d",
   "metadata": {},
   "outputs": [],
   "source": [
    "#write a Python Program to Check a Number is prime number or not\n",
    "num = int(input(\"Enter\"))\n",
    "for i in (range(2,num)):\n",
    "    if num%i==0:\n",
    "        print(i)\n"
   ]
  },
  {
   "cell_type": "code",
   "execution_count": null,
   "id": "45053791",
   "metadata": {},
   "outputs": [],
   "source": [
    "#Write a Python Program to Check Leap Year\n"
   ]
  },
  {
   "cell_type": "code",
   "execution_count": 10,
   "id": "3fa635a2",
   "metadata": {},
   "outputs": [
    {
     "name": "stdout",
     "output_type": "stream",
     "text": [
      "Number is Prime\n",
      "Number is Prime\n",
      "Number is Prime\n"
     ]
    }
   ],
   "source": [
    "# write a program to check leap year\n",
    "num = int(input(\"Enter a number: \"))\n",
    "\n",
    "for i in range(2, num):\n",
    "    if num % i == 0:\n",
    "        print(\"Number is not Prime\")\n",
    "        break\n",
    "    else:\n",
    "        print(\"Number is Prime\")"
   ]
  },
  {
   "cell_type": "code",
   "execution_count": 12,
   "id": "bc04885c",
   "metadata": {},
   "outputs": [
    {
     "name": "stdout",
     "output_type": "stream",
     "text": [
      "6 is not prime\n"
     ]
    }
   ],
   "source": [
    "# write a program to check leap year\n",
    "num = int(input(\"Enter a number: \"))\n",
    "\n",
    "for i in range(2, num):\n",
    "    if num % i == 0:\n",
    "        flag=True\n",
    "if flag:\n",
    "    print(f'{num} is not prime')\n",
    "else:\n",
    "    print(f'{num} is prime')"
   ]
  },
  {
   "cell_type": "code",
   "execution_count": 1,
   "id": "1b4709df",
   "metadata": {},
   "outputs": [
    {
     "ename": "TypeError",
     "evalue": "unsupported operand type(s) for ** or pow(): 'str' and 'int'",
     "output_type": "error",
     "traceback": [
      "\u001b[1;31m---------------------------------------------------------------------------\u001b[0m",
      "\u001b[1;31mTypeError\u001b[0m                                 Traceback (most recent call last)",
      "Cell \u001b[1;32mIn[1], line 6\u001b[0m\n\u001b[0;32m      4\u001b[0m \u001b[38;5;28msum\u001b[39m \u001b[38;5;241m=\u001b[39m\u001b[38;5;241m0\u001b[39m\n\u001b[0;32m      5\u001b[0m \u001b[38;5;28;01mfor\u001b[39;00m i \u001b[38;5;129;01min\u001b[39;00m (\u001b[38;5;28mrange\u001b[39m(\u001b[38;5;28mlen\u001b[39m(num)\u001b[38;5;241m-\u001b[39m\u001b[38;5;241m1\u001b[39m)):\n\u001b[1;32m----> 6\u001b[0m     \u001b[38;5;28msum\u001b[39m \u001b[38;5;241m+\u001b[39m\u001b[38;5;241m=\u001b[39m\u001b[38;5;28mint\u001b[39m(num[i]\u001b[38;5;241m*\u001b[39m\u001b[38;5;241m*\u001b[39m\u001b[38;5;28mpow\u001b[39m)\n\u001b[0;32m      7\u001b[0m \u001b[38;5;28;01mif\u001b[39;00m(\u001b[38;5;28msum\u001b[39m \u001b[38;5;241m==\u001b[39m\u001b[38;5;28mint\u001b[39m(num)):\n\u001b[0;32m      8\u001b[0m     \u001b[38;5;28mprint\u001b[39m(\u001b[38;5;124mf\u001b[39m\u001b[38;5;124m\"\u001b[39m\u001b[38;5;132;01m{\u001b[39;00mnum\u001b[38;5;132;01m}\u001b[39;00m\u001b[38;5;124m is an armstrong number\u001b[39m\u001b[38;5;124m\"\u001b[39m)\n",
      "\u001b[1;31mTypeError\u001b[0m: unsupported operand type(s) for ** or pow(): 'str' and 'int'"
     ]
    }
   ],
   "source": [
    "#Write a Python Program to Check Armstrong number \n",
    "num = input (\"Enter a number\")\n",
    "pow =len(num)\n",
    "sum =0\n",
    "for i in (range(len(num)-1)):\n",
    "    sum +=int(num[i]**pow)\n",
    "if(sum ==int(num)):\n",
    "    print(f\"{num} is an armstrong number\")\n",
    "else:\n",
    "    print(\"Better luck next time\")"
   ]
  },
  {
   "cell_type": "code",
   "execution_count": null,
   "id": "14e5e4f5",
   "metadata": {},
   "outputs": [],
   "source": [
    "#Write a Python program to check prime number\n",
    "for num in range(10000):\n",
    "    for i in (range):\n",
    "\n"
   ]
  },
  {
   "cell_type": "code",
   "execution_count": null,
   "id": "3fc32c3b",
   "metadata": {},
   "outputs": [
    {
     "name": "stdout",
     "output_type": "stream",
     "text": [
      "0\n",
      "370\n",
      "6688\n",
      "33286\n",
      "91819\n"
     ]
    }
   ],
   "source": [
    "#Write a Python program to check Armstrong Number\n",
    "for num in range((100000)):\n",
    "    strnum = str(num)\n",
    "    pow =len(strnum)\n",
    "    sum=0\n",
    "    for i in range(len(strnum)-1):\n",
    "        sum+=int(strnum[i])**pow\n",
    "    if(sum==num):\n",
    "        print(num)"
   ]
  },
  {
   "cell_type": "code",
   "execution_count": 15,
   "id": "a0d82f45",
   "metadata": {},
   "outputs": [
    {
     "name": "stdout",
     "output_type": "stream",
     "text": [
      "[1, 2, 3.0, 'Hello', True, [23, 45, 66]]\n",
      "<class 'list'>\n",
      "4.0\n",
      "[1, 2, 4.0, 'Hello', True, [23, 45, 66]]\n",
      "[1, 2, 4.0, 'Hello', True, [23, 45, 66], 'python']\n",
      "[1, 30, 4.0, 'Hello', True, [23, 45, 66], 'python']\n"
     ]
    }
   ],
   "source": [
    "list=[1,2,3.0,\"Hello\",True,[23,45,66]]\n",
    "print (list)\n",
    "print(type(list))\n",
    "list[2]=4.0\n",
    "print(list[2])\n",
    "print (list)\n",
    "list.append(\"python\")\n",
    "print (list)\n",
    "list.insert(2,30)\n",
    "list.remove(2)\n",
    "list1=list\n",
    "print (list1)\n",
    "list2=list1.copy\n",
    "\n"
   ]
  },
  {
   "cell_type": "code",
   "execution_count": 16,
   "id": "c40acc07",
   "metadata": {},
   "outputs": [
    {
     "name": "stdout",
     "output_type": "stream",
     "text": [
      "1\n",
      "3\n",
      "4\n",
      "6\n",
      "7\n",
      "7\n"
     ]
    }
   ],
   "source": [
    "num=[1,3,4,6,7,7]\n",
    "for i in num:\n",
    "    print(i)"
   ]
  },
  {
   "cell_type": "code",
   "execution_count": 19,
   "id": "5565b49e",
   "metadata": {},
   "outputs": [
    {
     "name": "stdout",
     "output_type": "stream",
     "text": [
      "[144, 441, 529, 2916, 2809, 3969]\n"
     ]
    }
   ],
   "source": [
    "num_list=[12,21,23,54,53,63]\n",
    "new_list=[]\n",
    "for i in num_list:\n",
    "    new_list.append(i**2)\n",
    "print(new_list)\n"
   ]
  },
  {
   "cell_type": "code",
   "execution_count": 12,
   "id": "9b4e7805",
   "metadata": {},
   "outputs": [
    {
     "ename": "TypeError",
     "evalue": "unsupported operand type(s) for %: 'int' and 'list'",
     "output_type": "error",
     "traceback": [
      "\u001b[1;31m---------------------------------------------------------------------------\u001b[0m",
      "\u001b[1;31mTypeError\u001b[0m                                 Traceback (most recent call last)",
      "Cell \u001b[1;32mIn[12], line 3\u001b[0m\n\u001b[0;32m      1\u001b[0m \u001b[38;5;66;03m#list comprehension\u001b[39;00m\n\u001b[0;32m      2\u001b[0m num_list\u001b[38;5;241m=\u001b[39m[\u001b[38;5;241m12\u001b[39m,\u001b[38;5;241m21\u001b[39m,\u001b[38;5;241m23\u001b[39m,\u001b[38;5;241m54\u001b[39m,\u001b[38;5;241m53\u001b[39m,\u001b[38;5;241m63\u001b[39m]\n\u001b[1;32m----> 3\u001b[0m new_list\u001b[38;5;241m=\u001b[39m[i\u001b[38;5;241m*\u001b[39m\u001b[38;5;241m*\u001b[39m\u001b[38;5;241m2\u001b[39m \u001b[38;5;28;01mfor\u001b[39;00m i \u001b[38;5;129;01min\u001b[39;00m num_list \u001b[38;5;28;01mif\u001b[39;00m i\u001b[38;5;241m%\u001b[39mnum_list]\n",
      "Cell \u001b[1;32mIn[12], line 3\u001b[0m, in \u001b[0;36m<listcomp>\u001b[1;34m(.0)\u001b[0m\n\u001b[0;32m      1\u001b[0m \u001b[38;5;66;03m#list comprehension\u001b[39;00m\n\u001b[0;32m      2\u001b[0m num_list\u001b[38;5;241m=\u001b[39m[\u001b[38;5;241m12\u001b[39m,\u001b[38;5;241m21\u001b[39m,\u001b[38;5;241m23\u001b[39m,\u001b[38;5;241m54\u001b[39m,\u001b[38;5;241m53\u001b[39m,\u001b[38;5;241m63\u001b[39m]\n\u001b[1;32m----> 3\u001b[0m new_list\u001b[38;5;241m=\u001b[39m[i\u001b[38;5;241m*\u001b[39m\u001b[38;5;241m*\u001b[39m\u001b[38;5;241m2\u001b[39m \u001b[38;5;28;01mfor\u001b[39;00m i \u001b[38;5;129;01min\u001b[39;00m num_list \u001b[38;5;28;01mif\u001b[39;00m i\u001b[38;5;241m%\u001b[39mnum_list]\n",
      "\u001b[1;31mTypeError\u001b[0m: unsupported operand type(s) for %: 'int' and 'list'"
     ]
    }
   ],
   "source": [
    "#list comprehension\n",
    "num_list=[12,21,23,54,53,63]\n",
    "new_list=[i**2 for i in num_list if i%num_list]"
   ]
  },
  {
   "cell_type": "code",
   "execution_count": 20,
   "id": "e91e8aff",
   "metadata": {},
   "outputs": [
    {
     "name": "stdout",
     "output_type": "stream",
     "text": [
      "[3, 5, 6, 31, 32, 32, 35, 35, 40, 54, 54, 54, 5335]\n"
     ]
    }
   ],
   "source": [
    "list=[32,31,40,54,32,54,54,3,5335,35,35,6,5]\n",
    "for i in range(len(list)-1):\n",
    "    for j in range(i+1,len(list)):\n",
    "        if list[i]>list[j]:\n",
    "            list[i],list[j]=list[j],list[i]\n",
    "print(list)\n",
    "\n",
    "\n"
   ]
  },
  {
   "cell_type": "code",
   "execution_count": 28,
   "id": "d64d3616",
   "metadata": {},
   "outputs": [
    {
     "name": "stdout",
     "output_type": "stream",
     "text": [
      "[[1, 2, 3, 4, 5], [6, 7, 8, 9, 10], [3, 4, 5, 6, 7], [7, 5, 4, 3, 6], [4, 6, 7, 8, 6], [6, 44, 75, 35, 3]]\n"
     ]
    },
    {
     "data": {
      "text/plain": [
       "[7, 5, 4, 3, 6]"
      ]
     },
     "execution_count": 28,
     "metadata": {},
     "output_type": "execute_result"
    }
   ],
   "source": [
    "matrix=[[1,2,3,4,5],[6,7,8,9,10],[3,4,5,6,7],[7,5,4,3,6],[4,6,7,8,6],[6,44,75,35,3]]\n",
    "matrix[3][2]\n",
    "print (matrix)\n",
    "matrix[3]"
   ]
  },
  {
   "cell_type": "code",
   "execution_count": 29,
   "id": "663b45ea",
   "metadata": {},
   "outputs": [
    {
     "data": {
      "text/plain": [
       "[[1, 2, 3, 4, 5],\n",
       " [6, 7, 8, 9, 10],\n",
       " [3, 4, 5, 6, 7],\n",
       " [7, 5, 4, 3, 6],\n",
       " [4, 6, 7, 8, 6],\n",
       " [6, 44, 75, 35, 3]]"
      ]
     },
     "execution_count": 29,
     "metadata": {},
     "output_type": "execute_result"
    }
   ],
   "source": [
    "matrix"
   ]
  },
  {
   "cell_type": "code",
   "execution_count": 30,
   "id": "90b099e8",
   "metadata": {},
   "outputs": [],
   "source": [
    "matrix1=[[[1,2,3,4,5],[6,7,8,9,10]],[[3,4,5,6,7],[7,5,4,3,6]],[[4,6,7,8,6],[6,44,75,35,3]]]"
   ]
  },
  {
   "cell_type": "code",
   "execution_count": 32,
   "id": "6c3e8d82",
   "metadata": {},
   "outputs": [
    {
     "data": {
      "text/plain": [
       "[[[1, 2, 3, 4, 5], [6, 7, 8, 9, 10]],\n",
       " [[3, 4, 5, 6, 7], [7, 5, 4, 3, 6]],\n",
       " [[4, 6, 7, 8, 6], [6, 44, 75, 35, 3]]]"
      ]
     },
     "execution_count": 32,
     "metadata": {},
     "output_type": "execute_result"
    }
   ],
   "source": [
    "matrix1"
   ]
  },
  {
   "cell_type": "code",
   "execution_count": 33,
   "id": "08852a52",
   "metadata": {},
   "outputs": [
    {
     "data": {
      "text/plain": [
       "3"
      ]
     },
     "execution_count": 33,
     "metadata": {},
     "output_type": "execute_result"
    }
   ],
   "source": [
    "matrix1[1][1][3]"
   ]
  },
  {
   "cell_type": "code",
   "execution_count": 35,
   "id": "b6bcc3fb",
   "metadata": {},
   "outputs": [
    {
     "data": {
      "text/plain": [
       "2"
      ]
     },
     "execution_count": 35,
     "metadata": {},
     "output_type": "execute_result"
    }
   ],
   "source": [
    "tuple=(10,34,10)\n",
    "tuple.count(10)"
   ]
  },
  {
   "cell_type": "code",
   "execution_count": 36,
   "id": "bf7eb9ad",
   "metadata": {},
   "outputs": [
    {
     "name": "stdout",
     "output_type": "stream",
     "text": [
      "67\n",
      "35\n",
      "4\n",
      "5\n",
      "43\n",
      "46\n",
      "21\n",
      "31\n"
     ]
    }
   ],
   "source": [
    "set={21,31,43,4,35,35,35,5,67,5,46}\n",
    "for i in set:\n",
    "    print(i)"
   ]
  },
  {
   "cell_type": "code",
   "execution_count": 37,
   "id": "bbab5058",
   "metadata": {},
   "outputs": [
    {
     "name": "stdout",
     "output_type": "stream",
     "text": [
      "{1, 2, 3, 4, 5, 6, 7, 8, 9, 36, 46, 818}\n",
      "{2, 3, 4, 6, 7}\n",
      "{1, 36, 5, 8, 9, 46, 818}\n"
     ]
    }
   ],
   "source": [
    "s1={1,2,3,4,5,6,7,8,9}\n",
    "s2={2,3,4,6,7,818,46,36}\n",
    "#Union of set\n",
    "print(s1.union(s2))\n",
    "#intersection\n",
    "print(s1.intersection(s2))\n",
    "#symmetric\n",
    "print(s1^s2)\n"
   ]
  },
  {
   "cell_type": "code",
   "execution_count": 40,
   "id": "1a461a25",
   "metadata": {},
   "outputs": [
    {
     "name": "stdout",
     "output_type": "stream",
     "text": [
      "{1, 2, 3, 5, 6, 7, 8, 9}\n"
     ]
    }
   ],
   "source": [
    "s1.discard(4)\n",
    "print(s1)"
   ]
  },
  {
   "cell_type": "code",
   "execution_count": 41,
   "id": "7fb1d991",
   "metadata": {},
   "outputs": [],
   "source": [
    "dict={\"name\":\"deeraj g r\",\"salary\": 1000001}\n"
   ]
  },
  {
   "cell_type": "code",
   "execution_count": 42,
   "id": "a0afb98f",
   "metadata": {},
   "outputs": [],
   "source": [
    "new_dict={k:v for k,v in dict.items()}"
   ]
  },
  {
   "cell_type": "code",
   "execution_count": 59,
   "id": "55d2983f",
   "metadata": {},
   "outputs": [
    {
     "name": "stdout",
     "output_type": "stream",
     "text": [
      "['abc', 'bce', 'ced', 'edf', 'dfg', 'fgh', 'ghi', 'hij', 'ijk', 'jkl', 'klm', 'lmn', 'mno', 'nop', 'opq', 'pqr', 'qrs', 'rst', 'stu', 'tuv', 'uvw', 'vwx', 'wxy']\n"
     ]
    }
   ],
   "source": [
    "str=\"abcedfghijklmnopqrstuvwxyz\"\n",
    "output=[]\n",
    "for i in range(len(str)-3):\n",
    "    output.append(str[i:i+3])\n",
    "print(output)\n"
   ]
  },
  {
   "cell_type": "code",
   "execution_count": null,
   "id": "e782c5e8",
   "metadata": {},
   "outputs": [],
   "source": [
    "python program to find hcf and lcm question\n",
    "cube sum of forst n natural numbers"
   ]
  },
  {
   "cell_type": "code",
   "execution_count": 8,
   "id": "2a1f6a6d",
   "metadata": {},
   "outputs": [
    {
     "name": "stdout",
     "output_type": "stream",
     "text": [
      "LCM for 5 and 7 is 35\n"
     ]
    }
   ],
   "source": [
    "#find lcm\n",
    "num1=int(input(\"Num1\"))\n",
    "num2=int(input(\"Num2\"))\n",
    "greater =0\n",
    "if num1>num2:\n",
    "    greater=num1\n",
    "else:\n",
    "    greater =num2\n",
    "while(True):\n",
    "    if(greater%num1==0) and (greater%num2==0):\n",
    "        lcm=greater\n",
    "        break\n",
    "    greater +=1\n",
    "print(f\"LCM for {num1} and {num2} is {lcm}\")"
   ]
  },
  {
   "cell_type": "code",
   "execution_count": null,
   "id": "1b496f8e",
   "metadata": {},
   "outputs": [
    {
     "name": "stdout",
     "output_type": "stream",
     "text": [
      "HCF for 4 and 6 is 4\n"
     ]
    }
   ],
   "source": [
    "#find HCF\n",
    "num1=int(input(\"Num1\"))\n",
    "num2=int(input(\"Num2\"))\n",
    "smaller =0\n",
    "if num1<num2:\n",
    "    smaller=num1\n",
    "else:\n",
    "    smaller =num2\n",
    "for i in range(1,smaller+1):\n",
    "    if(smaller%i==0):\n",
    "        hcf=i\n",
    "print(f\"HCF for {num1} and {num2} is {hcf}\")"
   ]
  },
  {
   "cell_type": "code",
   "execution_count": null,
   "id": "6f8ed07b",
   "metadata": {},
   "outputs": [
    {
     "name": "stdout",
     "output_type": "stream",
     "text": [
      "8\n"
     ]
    }
   ],
   "source": [
    "#find the sum of cubes of n natural numbers\n",
    "count=int(input(\"How many\"))\n",
    "sum =0\n",
    "for i in range(1,count+1):\n",
    "    sum+=i**3\n",
    "print(sum)"
   ]
  },
  {
   "cell_type": "code",
   "execution_count": null,
   "id": "3beb556f",
   "metadata": {},
   "outputs": [],
   "source": [
    "x = [0,1,2]\n",
    "y = [0,1,2]"
   ]
  },
  {
   "cell_type": "code",
   "execution_count": null,
   "id": "b1d681f3",
   "metadata": {},
   "outputs": [
    {
     "name": "stdout",
     "output_type": "stream",
     "text": [
      "[[0, 0, 0], [0, 0, 1], [0, 0, 2], [0, 1, 0], [0, 1, 1], [0, 1, 2], [0, 2, 0], [0, 2, 1], [0, 2, 2], [1, 0, 0], [1, 0, 1], [1, 0, 2], [1, 1, 0], [1, 1, 1], [1, 1, 2], [1, 2, 0], [1, 2, 1], [1, 2, 2], [2, 0, 0], [2, 0, 1], [2, 0, 2], [2, 1, 0], [2, 1, 1], [2, 1, 2], [2, 2, 0], [2, 2, 1], [2, 2, 2]]\n"
     ]
    }
   ],
   "source": [
    "i = int(input())\n",
    "j = int(input())\n",
    "k = int(input())\n",
    "n = int(input())\n",
    "hello=[[i,j,k] for i in range(n) for j in range(n)for k in range(n)]\n",
    "print(hello)"
   ]
  },
  {
   "cell_type": "code",
   "execution_count": 4,
   "id": "2b5c3fe9",
   "metadata": {},
   "outputs": [
    {
     "data": {
      "text/plain": [
       "9"
      ]
     },
     "execution_count": 4,
     "metadata": {},
     "output_type": "execute_result"
    }
   ],
   "source": [
    "def myfirstfunc(x=4,y=5):\n",
    "    sum=x+y\n",
    "    return sum\n",
    "myfirstfunc()"
   ]
  },
  {
   "cell_type": "code",
   "execution_count": 5,
   "id": "29c8befd",
   "metadata": {},
   "outputs": [
    {
     "name": "stdout",
     "output_type": "stream",
     "text": [
      "Welcome to Technuts\n"
     ]
    }
   ],
   "source": [
    "myfirstfunc(x=1,y=2)\n",
    "def disp():\n",
    "    name=\"Technuts\"\n",
    "    print(\"Welcome to\",name)\n",
    "disp()"
   ]
  },
  {
   "cell_type": "code",
   "execution_count": 10,
   "id": "53712e38",
   "metadata": {},
   "outputs": [
    {
     "name": "stdout",
     "output_type": "stream",
     "text": [
      "Disp function\n",
      "Show Function\n"
     ]
    }
   ],
   "source": [
    "def disp():\n",
    "    def show():\n",
    "        print(\"Show Function\")\n",
    "    print(\"Disp function\")\n",
    "    show()\n",
    "disp()"
   ]
  },
  {
   "cell_type": "code",
   "execution_count": null,
   "id": "be69ab1a",
   "metadata": {},
   "outputs": [],
   "source": [
    "def disp(sh):\n",
    "    print(type(sh))\n",
    "    print(\"Disp\")"
   ]
  },
  {
   "cell_type": "code",
   "execution_count": 13,
   "id": "0e7f2b37",
   "metadata": {},
   "outputs": [
    {
     "name": "stdout",
     "output_type": "stream",
     "text": [
      "Name:deeraj\n",
      "Disp function\n"
     ]
    }
   ],
   "source": [
    "def disp():\n",
    "    def show():\n",
    "        str1=str(input(\"Enter name:\"))\n",
    "        print(f\"Name:{str1}\")\n",
    "    show()\n",
    "    print(\"Disp function\")\n",
    "disp()"
   ]
  },
  {
   "cell_type": "code",
   "execution_count": 15,
   "id": "73f714df",
   "metadata": {},
   "outputs": [
    {
     "name": "stdout",
     "output_type": "stream",
     "text": [
      "Disp Function\n",
      "Show Function\n"
     ]
    }
   ],
   "source": [
    "def disp():\n",
    "    def show():\n",
    "        return \"Show Function\"\n",
    "    print(\"Disp Function\")\n",
    "    return show\n",
    "r_sh=disp()\n",
    "print(r_sh())"
   ]
  },
  {
   "cell_type": "code",
   "execution_count": 18,
   "id": "70d5b173",
   "metadata": {},
   "outputs": [
    {
     "name": "stdout",
     "output_type": "stream",
     "text": [
      "<class 'function'>\n",
      "Disp Function Show Function\n"
     ]
    }
   ],
   "source": [
    "def disp(sh):\n",
    "    print(type(sh))\n",
    "    print(\"Disp Function \"+sh())\n",
    "def show():\n",
    "    return\"Show Function\"\n",
    "disp(show)"
   ]
  },
  {
   "cell_type": "code",
   "execution_count": 25,
   "id": "30d1961b",
   "metadata": {},
   "outputs": [
    {
     "data": {
      "text/plain": [
       "9"
      ]
     },
     "execution_count": 25,
     "metadata": {},
     "output_type": "execute_result"
    }
   ],
   "source": [
    "def func(*num):\n",
    "    sum=num[0]+num[1]+num[2]\n",
    "    return sum\n",
    "func(2,3,4,5,6)"
   ]
  },
  {
   "cell_type": "code",
   "execution_count": 19,
   "id": "f4a2d0c8",
   "metadata": {},
   "outputs": [
    {
     "data": {
      "text/plain": [
       "13"
      ]
     },
     "execution_count": 19,
     "metadata": {},
     "output_type": "execute_result"
    }
   ],
   "source": [
    "def func(**num):\n",
    "    sum=num['a']+num['b']+num['c']\n",
    "    return sum\n",
    "func(a=6,b=3,c=4)"
   ]
  },
  {
   "cell_type": "code",
   "execution_count": 26,
   "id": "e073e0e6",
   "metadata": {},
   "outputs": [
    {
     "data": {
      "text/plain": [
       "34"
      ]
     },
     "execution_count": 26,
     "metadata": {},
     "output_type": "execute_result"
    }
   ],
   "source": [
    "def func2(*num1,**num2):\n",
    "    sum=num1[0]+num1[1]+num2['a']+num2['b']+num2['c']\n",
    "    return sum\n",
    "func2(4,7,a=6,b=8,c=9)"
   ]
  },
  {
   "cell_type": "code",
   "execution_count": 40,
   "id": "44f3501c",
   "metadata": {},
   "outputs": [
    {
     "name": "stdout",
     "output_type": "stream",
     "text": [
      "143\n"
     ]
    }
   ],
   "source": [
    "def love():\n",
    "    def plus(x,y):\n",
    "        sum=x+y\n",
    "        return sum\n",
    "    def func3(a,b):\n",
    "        add=plus(a,b)\n",
    "        return add\n",
    "    final =func3(65,66)\n",
    "    return final\n",
    "print(love()+12)\n"
   ]
  },
  {
   "cell_type": "code",
   "execution_count": null,
   "id": "52d89a05",
   "metadata": {},
   "outputs": [
    {
     "ename": "SyntaxError",
     "evalue": "invalid syntax (3485108183.py, line 2)",
     "output_type": "error",
     "traceback": [
      "\u001b[1;36m  Cell \u001b[1;32mIn[42], line 2\u001b[1;36m\u001b[0m\n\u001b[1;33m    def show()::\u001b[0m\n\u001b[1;37m               ^\u001b[0m\n\u001b[1;31mSyntaxError\u001b[0m\u001b[1;31m:\u001b[0m invalid syntax\n"
     ]
    }
   ],
   "source": [
    "a=50\n",
    "def show():\n",
    "    x=10\n",
    "    print(x)\n",
    "    print(a)\n",
    "print(\"Global VAriable A: \")\n",
    "print(x)\n",
    "print(y)\n"
   ]
  },
  {
   "cell_type": "code",
   "execution_count": 44,
   "id": "ecf480ad",
   "metadata": {},
   "outputs": [],
   "source": [
    "i=0\n",
    "def myfunc():\n",
    "    global i\n",
    "    i+=1\n",
    "    print(\"My Function\", i)\n",
    "    myfun()"
   ]
  },
  {
   "cell_type": "code",
   "execution_count": 43,
   "id": "4dcc95ff",
   "metadata": {},
   "outputs": [
    {
     "name": "stdout",
     "output_type": "stream",
     "text": [
      "10\n",
      "50\n",
      "50\n"
     ]
    },
    {
     "ename": "NameError",
     "evalue": "name 'x' is not defined",
     "output_type": "error",
     "traceback": [
      "\u001b[1;31m---------------------------------------------------------------------------\u001b[0m",
      "\u001b[1;31mNameError\u001b[0m                                 Traceback (most recent call last)",
      "Cell \u001b[1;32mIn[43], line 8\u001b[0m\n\u001b[0;32m      6\u001b[0m show()\n\u001b[0;32m      7\u001b[0m \u001b[38;5;28mprint\u001b[39m(a) \u001b[38;5;66;03m#Access Global\u001b[39;00m\n\u001b[1;32m----> 8\u001b[0m \u001b[38;5;28mprint\u001b[39m(x)\n",
      "\u001b[1;31mNameError\u001b[0m: name 'x' is not defined"
     ]
    }
   ],
   "source": [
    "a=50 #Global\n",
    "def show():\n",
    "    x=10 #Local \n",
    "    print(x) #Access local\n",
    "    print(a) #Access Global\n",
    "show()\n",
    "print(a) #Access Global\n",
    "print(x) #Access Local show error"
   ]
  },
  {
   "cell_type": "code",
   "execution_count": 47,
   "id": "7b335d8b",
   "metadata": {},
   "outputs": [
    {
     "name": "stdout",
     "output_type": "stream",
     "text": [
      "3628800\n"
     ]
    }
   ],
   "source": [
    "def fact(n):\n",
    "    if n==0:\n",
    "        return 1\n",
    "    return n* fact(n-1)\n",
    "print(fact(10))"
   ]
  },
  {
   "cell_type": "code",
   "execution_count": 48,
   "id": "397975d1",
   "metadata": {},
   "outputs": [
    {
     "name": "stdout",
     "output_type": "stream",
     "text": [
      "5\n",
      "7\n"
     ]
    }
   ],
   "source": [
    "#Annoymous Function or Lambda Function\n",
    "# Example 1 Single Argument \n",
    "show=lambda x : print(x)\n",
    "show(5)\n",
    "# Example 2 Two Arguments\n",
    "add= lambda x,y: (x+y)\n",
    "print(add(5,2))\n"
   ]
  },
  {
   "cell_type": "code",
   "execution_count": 50,
   "id": "e4a3b4be",
   "metadata": {},
   "outputs": [
    {
     "data": {
      "text/plain": [
       "'7 is a prime number'"
      ]
     },
     "execution_count": 50,
     "metadata": {},
     "output_type": "execute_result"
    }
   ],
   "source": [
    "def isPrime(x):\n",
    "    for i in (range(2,x)):\n",
    "        if x%i==0:\n",
    "            return f\"{x} is not prime\"\n",
    "            break\n",
    "        else:\n",
    "            return f\"{x} is a prime number\"\n",
    "isPrime(x=7)"
   ]
  },
  {
   "cell_type": "code",
   "execution_count": null,
   "id": "2f4d3f3e",
   "metadata": {},
   "outputs": [],
   "source": [
    "def fibo(n):\n",
    "    if n<=1:\n",
    "        return n\n",
    "    else:\n",
    "        return(fibo(n-i)+)"
   ]
  },
  {
   "cell_type": "code",
   "execution_count": 55,
   "id": "3ee9dfe5",
   "metadata": {},
   "outputs": [
    {
     "data": {
      "text/plain": [
       "'370 is an Armstrong number'"
      ]
     },
     "execution_count": 55,
     "metadata": {},
     "output_type": "execute_result"
    }
   ],
   "source": [
    "def armstrong(a):\n",
    "    stra= str(a)\n",
    "    power =len(stra)\n",
    "    len(stra)\n",
    "    sum=0\n",
    "    for i in range(len(stra)-1):\n",
    "        sum+=int(stra[i])**power\n",
    "    if sum==a:\n",
    "        return f'{a} is an Armstrong number'\n",
    "    else:\n",
    "        return f'{a} is not an Armstrong number'\n",
    "armstrong(370)"
   ]
  },
  {
   "cell_type": "code",
   "execution_count": 1,
   "id": "7e9f36e8",
   "metadata": {},
   "outputs": [
    {
     "data": {
      "text/plain": [
       "70"
      ]
     },
     "execution_count": 1,
     "metadata": {},
     "output_type": "execute_result"
    }
   ],
   "source": [
    "class Mobile:\n",
    "    def __init__(self):\n",
    "       self.num1=30\n",
    "       self.num2=40\n",
    "    def add(self):\n",
    "        return self.num1+ self.num2\n",
    "    \n",
    "x=Mobile()\n",
    "x.add()\n"
   ]
  },
  {
   "cell_type": "code",
   "execution_count": 3,
   "id": "9a537c85",
   "metadata": {},
   "outputs": [
    {
     "data": {
      "text/plain": [
       "60"
      ]
     },
     "execution_count": 3,
     "metadata": {},
     "output_type": "execute_result"
    }
   ],
   "source": [
    "class Mobile:\n",
    "    def __init__(self,num1,num2):\n",
    "       self.num1=num1\n",
    "       self.num2=num2\n",
    "    def add(self):\n",
    "        return self.num1 + self.num2\n",
    "    \n",
    "x=Mobile(num1=30,num2=30)\n",
    "x.add()\n"
   ]
  },
  {
   "cell_type": "code",
   "execution_count": 4,
   "id": "42789a71",
   "metadata": {},
   "outputs": [
    {
     "data": {
      "text/plain": [
       "100"
      ]
     },
     "execution_count": 4,
     "metadata": {},
     "output_type": "execute_result"
    }
   ],
   "source": [
    "class Mobile:\n",
    "    def __init__(self,num1,num2):\n",
    "       self.num1=num1\n",
    "       self.num2=num2\n",
    "    def add(self):\n",
    "        return self.num1 + self.num2\n",
    "    \n",
    "x=Mobile(30,70)\n",
    "x.add()\n"
   ]
  },
  {
   "cell_type": "code",
   "execution_count": null,
   "id": "6cfb44b8",
   "metadata": {},
   "outputs": [
    {
     "name": "stdout",
     "output_type": "stream",
     "text": [
      "Model Realme X and Price 1000\n"
     ]
    }
   ],
   "source": [
    "class mobile:\n",
    "    #constructor\n",
    "    def __init__(self,n):\n",
    "        self.model=n\n",
    "    def show_model(self,p):\n",
    "        price=p #Local variable\n",
    "        print(\"Model\",self.model,\"and Price\",price)\n",
    "\n",
    "    #passing arguement to constructor\n",
    "realme= mobile(\"Realme X\")\n",
    "    #Accessing Method from outside Class\n",
    "realme.show_model(1000)\n"
   ]
  },
  {
   "cell_type": "code",
   "execution_count": null,
   "id": "697b8fb3",
   "metadata": {},
   "outputs": [
    {
     "name": "stdout",
     "output_type": "stream",
     "text": [
      "Iphone\n",
      "30000\n"
     ]
    }
   ],
   "source": [
    "class mobile:\n",
    "    #constructor\n",
    "    def __init__(self,n):\n",
    "        self.model=n\n",
    "    def show_model(self,p):\n",
    "        price=p #Local variable\n",
    "        print(\"Model\",self.model,\"and Price\",price)\n",
    "\n",
    "    #passing arguement to constructor\n",
    "realme= mobile(\"Realme X\")\n",
    "    #Accessing Method from outside Class\n",
    "realme.show_model(1000)\n",
    "realme.show_model=30000\n",
    "realme.model=\"Iphone\"\n",
    "print(realme.model)\n",
    "print(realme.show_model)\n",
    "\n"
   ]
  },
  {
   "cell_type": "code",
   "execution_count": null,
   "id": "06144069",
   "metadata": {},
   "outputs": [
    {
     "name": "stdout",
     "output_type": "stream",
     "text": [
      "Model Realme X and Price 1000\n",
      "Iphone\n"
     ]
    }
   ],
   "source": [
    "class mobile:\n",
    "    #constructor\n",
    "    def __init__(self,n):\n",
    "        self.model=n\n",
    "    def show_model(self,p):\n",
    "        price=p #Local variable\n",
    "        print(\"Model\",self.model,\"and Price\",price)\n",
    "\n",
    "    #passing arguement to constructor\n",
    "realme= mobile(\"Realme X\")\n",
    "    #Accessing Method from outside Class\n",
    "realme.show_model(1000)\n",
    "realme.model=\"Iphone\"\n",
    "print(realme.model)\n",
    "geek=\n",
    "\n",
    "\n"
   ]
  },
  {
   "cell_type": "code",
   "execution_count": null,
   "id": "2b9a09cf",
   "metadata": {},
   "outputs": [
    {
     "ename": "SyntaxError",
     "evalue": "incomplete input (1172763232.py, line 1)",
     "output_type": "error",
     "traceback": [
      "\u001b[1;36m  Cell \u001b[1;32mIn[18], line 1\u001b[1;36m\u001b[0m\n\u001b[1;33m    class Mobile:\u001b[0m\n\u001b[1;37m                 ^\u001b[0m\n\u001b[1;31mSyntaxError\u001b[0m\u001b[1;31m:\u001b[0m incomplete input\n"
     ]
    }
   ],
   "source": [
    "class Mobile:\n",
    "    #constructor\n",
    "    def __init__(self,n,v=30)\n",
    "        "
   ]
  },
  {
   "cell_type": "code",
   "execution_count": 21,
   "id": "04227cf2",
   "metadata": {},
   "outputs": [
    {
     "name": "stdout",
     "output_type": "stream",
     "text": [
      "30\n"
     ]
    },
    {
     "ename": "NameError",
     "evalue": "name '_num2' is not defined",
     "output_type": "error",
     "traceback": [
      "\u001b[1;31m---------------------------------------------------------------------------\u001b[0m",
      "\u001b[1;31mNameError\u001b[0m                                 Traceback (most recent call last)",
      "Cell \u001b[1;32mIn[21], line 15\u001b[0m\n\u001b[0;32m     13\u001b[0m x\u001b[38;5;241m=\u001b[39mmaths(\u001b[38;5;241m30\u001b[39m,\u001b[38;5;241m50\u001b[39m,\u001b[38;5;241m60\u001b[39m)\n\u001b[0;32m     14\u001b[0m \u001b[38;5;28mprint\u001b[39m(x\u001b[38;5;241m.\u001b[39mnum1)\n\u001b[1;32m---> 15\u001b[0m \u001b[38;5;28mprint\u001b[39m(x,_num2)\n\u001b[0;32m     16\u001b[0m \u001b[38;5;66;03m#print(x,__num3)\u001b[39;00m\n\u001b[0;32m     17\u001b[0m x\u001b[38;5;241m.\u001b[39mnum3\u001b[38;5;241m=\u001b[39m\u001b[38;5;241m80\u001b[39m\n",
      "\u001b[1;31mNameError\u001b[0m: name '_num2' is not defined"
     ]
    }
   ],
   "source": [
    "class maths:\n",
    "    def __init__(self,num1,num2,num3):\n",
    "        self.num1=num1\n",
    "        self._num2=num2\n",
    "        self.__num3=num3\n",
    "    def set_num3(self,__num3):\n",
    "        self.__num3=num3\n",
    "    def get_num3(self):\n",
    "        return self.__num3\n",
    "    def add(self):\n",
    "        return self.num1+self.num2\n",
    "\n",
    "x=maths(30,50,60)\n",
    "print(x.num1)\n",
    "print(x,_num2)\n",
    "#print(x,__num3)\n",
    "x.num3=80"
   ]
  },
  {
   "cell_type": "code",
   "execution_count": 22,
   "id": "30a7e9cf",
   "metadata": {},
   "outputs": [
    {
     "ename": "NameError",
     "evalue": "name 'wwwwwwwwwwwwwwwww' is not defined",
     "output_type": "error",
     "traceback": [
      "\u001b[1;31m---------------------------------------------------------------------------\u001b[0m",
      "\u001b[1;31mNameError\u001b[0m                                 Traceback (most recent call last)",
      "Cell \u001b[1;32mIn[22], line 1\u001b[0m\n\u001b[1;32m----> 1\u001b[0m \u001b[38;5;28;01mclass\u001b[39;00m \u001b[38;5;21;01mArmy\u001b[39;00m: \u001b[38;5;66;03m#Outer class\u001b[39;00m\n\u001b[0;32m      2\u001b[0m     \u001b[38;5;28;01mdef\u001b[39;00m \u001b[38;5;21m__init__\u001b[39m(\u001b[38;5;28mself\u001b[39m):\n\u001b[0;32m      3\u001b[0m         \u001b[38;5;28mself\u001b[39m\u001b[38;5;241m.\u001b[39mname\u001b[38;5;241m=\u001b[39m\u001b[38;5;124m\"\u001b[39m\u001b[38;5;124mRahul\u001b[39m\u001b[38;5;124m\"\u001b[39m\n",
      "Cell \u001b[1;32mIn[22], line 7\u001b[0m, in \u001b[0;36mArmy\u001b[1;34m()\u001b[0m\n\u001b[0;32m      5\u001b[0m \u001b[38;5;28;01mdef\u001b[39;00m \u001b[38;5;21mshow\u001b[39m(\u001b[38;5;28mself\u001b[39m):\n\u001b[0;32m      6\u001b[0m     \u001b[38;5;28mprint\u001b[39m(\u001b[38;5;124m\"\u001b[39m\u001b[38;5;124mName\u001b[39m\u001b[38;5;124m\"\u001b[39m,\u001b[38;5;28mself\u001b[39m\u001b[38;5;241m.\u001b[39mname)\n\u001b[1;32m----> 7\u001b[0m \u001b[38;5;28;01mclass\u001b[39;00m \u001b[38;5;21;01mGun\u001b[39;00m():  \u001b[38;5;66;03m#Inner class\u001b[39;00m\n\u001b[0;32m      8\u001b[0m     wwwwwwwwwwwwwwwww\n",
      "Cell \u001b[1;32mIn[22], line 8\u001b[0m, in \u001b[0;36mArmy.Gun\u001b[1;34m()\u001b[0m\n\u001b[0;32m      7\u001b[0m \u001b[38;5;28;01mclass\u001b[39;00m \u001b[38;5;21;01mGun\u001b[39;00m():  \u001b[38;5;66;03m#Inner class\u001b[39;00m\n\u001b[1;32m----> 8\u001b[0m     wwwwwwwwwwwwwwwww\n",
      "\u001b[1;31mNameError\u001b[0m: name 'wwwwwwwwwwwwwwwww' is not defined"
     ]
    }
   ],
   "source": [
    "class Army: #Outer class\n",
    "    def __init__(self):\n",
    "        self.name=\"Rahul\"\n",
    "        self.gn=self.Gun() # Creating Inner class Object\n",
    "    def show(self):\n",
    "        print(\"Name\",self.name)\n",
    "    class Gun():  #Inner class\n",
    "        wwwwwwwwwwwwwwwww\n",
    "        "
   ]
  },
  {
   "cell_type": "code",
   "execution_count": null,
   "id": "f775da83",
   "metadata": {},
   "outputs": [
    {
     "ename": "SyntaxError",
     "evalue": "incomplete input (1015142899.py, line 7)",
     "output_type": "error",
     "traceback": [
      "\u001b[1;36m  Cell \u001b[1;32mIn[23], line 7\u001b[1;36m\u001b[0m\n\u001b[1;33m    \u001b[0m\n\u001b[1;37m    ^\u001b[0m\n\u001b[1;31mSyntaxError\u001b[0m\u001b[1;31m:\u001b[0m incomplete input\n"
     ]
    }
   ],
   "source": [
    "class Father:\n",
    "    money=1000\n",
    "    def show(self):\n",
    "        print(\"Parent Class Instance mathod\")\n",
    "    def showmoney(self):\n",
    "        print(\"parent\")\n",
    "\n",
    "        \n"
   ]
  },
  {
   "cell_type": "code",
   "execution_count": 25,
   "id": "594274c8",
   "metadata": {},
   "outputs": [
    {
     "name": "stdout",
     "output_type": "stream",
     "text": [
      "father class constructor\n",
      "Son Class Instance Method 1000\n",
      "Father Instance Variable 1000\n",
      "Father Class Instance Method\n"
     ]
    }
   ],
   "source": [
    "#Constructor in Inheritance\n",
    "class Father:\n",
    "    def __init__(self):\n",
    "        self.money=1000\n",
    "        print(\"father class constructor\")\n",
    "    def show(self):\n",
    "        print(\"Father Class Instance Method\")\n",
    "\n",
    "class Son(Father):\n",
    "    def disp(self):\n",
    "        print(\"Son Class Instance Method\",self.money)\n",
    "s=Son()\n",
    "s.disp()\n",
    "print(\"Father Instance Variable\",s.money)\n",
    "s.show()"
   ]
  },
  {
   "cell_type": "code",
   "execution_count": 29,
   "id": "62982824",
   "metadata": {},
   "outputs": [
    {
     "ename": "NameError",
     "evalue": "name 'GrandSon' is not defined",
     "output_type": "error",
     "traceback": [
      "\u001b[1;31m---------------------------------------------------------------------------\u001b[0m",
      "\u001b[1;31mNameError\u001b[0m                                 Traceback (most recent call last)",
      "Cell \u001b[1;32mIn[29], line 12\u001b[0m\n\u001b[0;32m     10\u001b[0m     \u001b[38;5;28;01mdef\u001b[39;00m \u001b[38;5;21mshows\u001b[39m(\u001b[38;5;28mself\u001b[39m):\n\u001b[0;32m     11\u001b[0m         \u001b[38;5;28mprint\u001b[39m(\u001b[38;5;124m\"\u001b[39m\u001b[38;5;124mSon Class Method\u001b[39m\u001b[38;5;124m\"\u001b[39m)\n\u001b[1;32m---> 12\u001b[0m \u001b[38;5;28;01mclass\u001b[39;00m \u001b[38;5;21;01mGrandSon\u001b[39;00m(Son):\n\u001b[0;32m     13\u001b[0m     \u001b[38;5;28;01mdef\u001b[39;00m \u001b[38;5;21m__init__\u001b[39m(\u001b[38;5;28mself\u001b[39m):\n\u001b[0;32m     14\u001b[0m         \u001b[38;5;28mprint\u001b[39m(\u001b[38;5;124m\"\u001b[39m\u001b[38;5;124mGrandSon Class Constructor\u001b[39m\u001b[38;5;124m\"\u001b[39m)\n",
      "Cell \u001b[1;32mIn[29], line 17\u001b[0m, in \u001b[0;36mGrandSon\u001b[1;34m()\u001b[0m\n\u001b[0;32m     15\u001b[0m \u001b[38;5;28;01mdef\u001b[39;00m \u001b[38;5;21mshowg\u001b[39m(\u001b[38;5;28mself\u001b[39m):\n\u001b[0;32m     16\u001b[0m     \u001b[38;5;28mprint\u001b[39m(\u001b[38;5;124m\"\u001b[39m\u001b[38;5;124mGrandSon Class Method\u001b[39m\u001b[38;5;124m\"\u001b[39m)\n\u001b[1;32m---> 17\u001b[0m g\u001b[38;5;241m=\u001b[39mGrandSon()\n\u001b[0;32m     18\u001b[0m g\u001b[38;5;241m.\u001b[39mshowF()\n\u001b[0;32m     19\u001b[0m g\u001b[38;5;241m.\u001b[39mshowS()\n",
      "\u001b[1;31mNameError\u001b[0m: name 'GrandSon' is not defined"
     ]
    }
   ],
   "source": [
    "#Multi level Inheritance\n",
    "class Father:\n",
    "    def __init__(self):\n",
    "        print(\"Father Class Constructor\")\n",
    "    def showf(self):\n",
    "        print(\"father Class Method\")\n",
    "class Son(Father):\n",
    "    def __init__(self):\n",
    "        print(\"Son Class Constructor\")\n",
    "    def shows(self):\n",
    "        print(\"Son Class Method\")\n",
    "class GrandSon(Son):\n",
    "    def __init__(self):\n",
    "        print(\"GrandSon Class Constructor\")\n",
    "    def showg(self):\n",
    "        print(\"GrandSon Class Method\")\n",
    "    g=GrandSon()\n",
    "    g.showF()\n",
    "    g.showS()\n",
    "    g.showG()\n"
   ]
  },
  {
   "cell_type": "code",
   "execution_count": 33,
   "id": "16935230",
   "metadata": {},
   "outputs": [
    {
     "name": "stdout",
     "output_type": "stream",
     "text": [
      "Son Class Constructor\n",
      "father Class Method\n"
     ]
    },
    {
     "ename": "AttributeError",
     "evalue": "'Son' object has no attribute 'showm'",
     "output_type": "error",
     "traceback": [
      "\u001b[1;31m---------------------------------------------------------------------------\u001b[0m",
      "\u001b[1;31mAttributeError\u001b[0m                            Traceback (most recent call last)",
      "Cell \u001b[1;32mIn[33], line 12\u001b[0m\n\u001b[0;32m     10\u001b[0m     \u001b[38;5;28;01mdef\u001b[39;00m \u001b[38;5;21mshowm\u001b[39m(\u001b[38;5;28mself\u001b[39m):\n\u001b[0;32m     11\u001b[0m         \u001b[38;5;28mprint\u001b[39m(\u001b[38;5;124m\"\u001b[39m\u001b[38;5;124mMother Class Method\u001b[39m\u001b[38;5;124m\"\u001b[39m)\n\u001b[1;32m---> 12\u001b[0m \u001b[38;5;28;01mclass\u001b[39;00m \u001b[38;5;21;01mSon\u001b[39;00m(Father,Mother):\n\u001b[0;32m     13\u001b[0m     \u001b[38;5;28;01mdef\u001b[39;00m \u001b[38;5;21m__init__\u001b[39m(\u001b[38;5;28mself\u001b[39m):\n\u001b[0;32m     14\u001b[0m         \u001b[38;5;28mprint\u001b[39m(\u001b[38;5;124m\"\u001b[39m\u001b[38;5;124mSon Class Constructor\u001b[39m\u001b[38;5;124m\"\u001b[39m)\n",
      "Cell \u001b[1;32mIn[33], line 19\u001b[0m, in \u001b[0;36mSon\u001b[1;34m()\u001b[0m\n\u001b[0;32m     17\u001b[0m g\u001b[38;5;241m=\u001b[39mSon()\n\u001b[0;32m     18\u001b[0m g\u001b[38;5;241m.\u001b[39mshowf()\n\u001b[1;32m---> 19\u001b[0m g\u001b[38;5;241m.\u001b[39mshowm()\n",
      "\u001b[1;31mAttributeError\u001b[0m: 'Son' object has no attribute 'showm'"
     ]
    }
   ],
   "source": [
    "#Multi level Inheritance\n",
    "class Father:\n",
    "    def __init__(self):\n",
    "        print(\"Father Class Constructor\")\n",
    "    def showf(self):\n",
    "        print(\"father Class Method\")\n",
    "class Mother:\n",
    "    def __init__(self):\n",
    "        print(\"Mother Class Constructor\")\n",
    "    def showm(self):\n",
    "        print(\"Mother Class Method\")\n",
    "class Son(Father,Mother):\n",
    "    def __init__(self):\n",
    "        print(\"Son Class Constructor\")\n",
    "    def shows(self):\n",
    "        print(\"Son Class Method\")\n",
    "    g=Son()\n",
    "    g.showf()\n",
    "    g.showm()\n",
    "    \n"
   ]
  },
  {
   "cell_type": "code",
   "execution_count": 37,
   "id": "4a455395",
   "metadata": {},
   "outputs": [
    {
     "name": "stdout",
     "output_type": "stream",
     "text": [
      " thapak thapak thapak thapak\n",
      " tabdak tabdak tabdak tabdak \n"
     ]
    }
   ],
   "source": [
    "class Duck:\n",
    "    def walk(self):\n",
    "        print(\" thapak thapak thapak thapak\")\n",
    "class Horse:\n",
    "    def walk(self):\n",
    "        print(\" tabdak tabdak tabdak tabdak \")\n",
    "class Cat:\n",
    "    def talk(self):\n",
    "        print(\"Meow Meow Meow Meow\")\n",
    "def myfunction(obj):\n",
    "    obj.walk()\n",
    "\n",
    "d=Duck()\n",
    "myfunction(d)\n",
    "h=Horse()\n",
    "myfunction(h)\n",
    "\n",
    "\n",
    "        "
   ]
  },
  {
   "cell_type": "code",
   "execution_count": 44,
   "id": "f16d4355",
   "metadata": {},
   "outputs": [
    {
     "name": "stdout",
     "output_type": "stream",
     "text": [
      "thapak thapak thapak thapak\n",
      "tabdak tabdak tabdak tabdak \n",
      "Meow Meow Meow Meow\n"
     ]
    }
   ],
   "source": [
    "class Duck:\n",
    "    def walk(self):\n",
    "        print(\"thapak thapak thapak thapak\")\n",
    "class Horse:\n",
    "    def walk(self):\n",
    "        print(\"tabdak tabdak tabdak tabdak \")\n",
    "class Cat:\n",
    "    def talk(self):\n",
    "        print(\"Meow Meow Meow Meow\")\n",
    "        \n",
    "def myfunction(obj):\n",
    "    if hasattr(obj,'walk'):\n",
    "        obj.walk()\n",
    "    if hasattr(obj,'talk'):\n",
    "        obj.talk()\n",
    "\n",
    "\n",
    "d=Duck()\n",
    "myfunction(d)\n",
    "h=Horse()\n",
    "myfunction(h)\n",
    "c=Cat()\n",
    "myfunction(c)\n",
    "\n",
    "\n",
    "        "
   ]
  },
  {
   "cell_type": "code",
   "execution_count": null,
   "id": "6e820460",
   "metadata": {},
   "outputs": [
    {
     "name": "stdout",
     "output_type": "stream",
     "text": [
      "thapak thapak thapak thapak\n",
      "tabdak tabdak tabdak tabdak \n",
      "Meow Meow Meow Meow\n"
     ]
    }
   ],
   "source": [
    "class Duck:\n",
    "    def walk(self):\n",
    "        print(\"thapak thapak thapak thapak\")\n",
    "class Horse:\n",
    "    def walk(self):\n",
    "        print(\"tabdak tabdak tabdak tabdak \")\n",
    "class Cat:\n",
    "    def talk(self):\n",
    "        print(\"Meow Meow Meow Meow\")\n",
    "\n",
    "def myfunction(obj):\n",
    "    if hasattr(obj,'walk'):\n",
    "        obj.walk()\n",
    "def myfy(ojl):\n",
    "    if hasattr(ojl,'talk'):\n",
    "        ojl.talk()\n",
    "\n",
    "\n",
    "d=Duck()\n",
    "myfunction(d)\n",
    "h=Horse()\n",
    "myfunction(h)\n",
    "c=Cat()\n",
    "myfy(c)\n",
    "\n",
    "\n",
    "        "
   ]
  },
  {
   "cell_type": "code",
   "execution_count": null,
   "id": "34feaa36",
   "metadata": {},
   "outputs": [],
   "source": [
    "#\"E:\\LPU CLG downloads\\hello.txt\"\n",
    "import os\n",
    "dir_name=\"\"\n",
    "file_name=\"hello.txt\"\n",
    "full_path=\n"
   ]
  },
  {
   "cell_type": "code",
   "execution_count": 1,
   "id": "edb7a952",
   "metadata": {},
   "outputs": [
    {
     "name": "stdout",
     "output_type": "stream",
     "text": [
      "Current working Directoryd:\\Python Full Stack\n"
     ]
    }
   ],
   "source": [
    "import os\n",
    "cwd =os.getcwd()\n",
    "print(f\"Current working Directory{cwd}\")\n"
   ]
  },
  {
   "cell_type": "code",
   "execution_count": 8,
   "id": "6c6bab91",
   "metadata": {},
   "outputs": [
    {
     "name": "stdout",
     "output_type": "stream",
     "text": [
      "Directory'pakage'create\n"
     ]
    }
   ],
   "source": [
    "#create a new directory\n",
    "import os \n",
    "new_directory1=\"pakage\"\n",
    "os.mkdir(\"new_directory1\")\n",
    "print(f\"Directory'{new_directory1}'create\")"
   ]
  },
  {
   "cell_type": "code",
   "execution_count": 9,
   "id": "2cb3c27f",
   "metadata": {},
   "outputs": [
    {
     "name": "stdout",
     "output_type": "stream",
     "text": [
      "['Day 1.py', 'day1.ipynb', 'f.ipynb', 'new_directory', 'new_directory1']\n"
     ]
    }
   ],
   "source": [
    "#Listiing Files and Directories\n",
    "items=os.listdir('.')\n",
    "print(items)"
   ]
  },
  {
   "cell_type": "code",
   "execution_count": 13,
   "id": "e0f02c5f",
   "metadata": {},
   "outputs": [],
   "source": [
    "f=open('hello.txt',mode='r+')\n",
    "f.write('Geeks for geeks\\n')\n",
    "f.write('Geeks for geeks\\n')\n",
    "f.write('Geeks for geeks\\n')\n",
    "f.close()\n"
   ]
  },
  {
   "cell_type": "code",
   "execution_count": 16,
   "id": "0a343d35",
   "metadata": {},
   "outputs": [
    {
     "name": "stdout",
     "output_type": "stream",
     "text": [
      "0\n",
      "7\n",
      "or geeks\n",
      "Geeks for geeks\n",
      "Geeks for geeks\n",
      "\n",
      "2\n",
      "or geeks\n",
      "Geeks for geeks\n",
      "Geeks for geeks\n",
      "\n"
     ]
    }
   ],
   "source": [
    "f=open('hello.txt',mode='r+')\n",
    "print(f.tell())\n",
    "#data=\n",
    "f.seek(7)\n",
    "print(f.tell())\n",
    "data1=f.read()\n",
    "print(data1)\n",
    "f.seek(2)\n",
    "print(f.tell())\n",
    "print(data1)"
   ]
  },
  {
   "cell_type": "code",
   "execution_count": 17,
   "id": "4e6c72c2",
   "metadata": {},
   "outputs": [
    {
     "name": "stdout",
     "output_type": "stream",
     "text": [
      "Geeks for geeks\n",
      "Geeks for geeks\n",
      "Geeks for geeks\n",
      "\n",
      "File Closed : False\n",
      "File Closed : True\n"
     ]
    }
   ],
   "source": [
    "with open('hello.txt') as f:\n",
    "    data=f.read()\n",
    "    print(data)\n",
    "    print(\"File Closed :\",f.closed)\n",
    "print(\"File Closed :\",f.closed)"
   ]
  },
  {
   "cell_type": "code",
   "execution_count": 18,
   "id": "30015650",
   "metadata": {},
   "outputs": [
    {
     "ename": "SyntaxError",
     "evalue": "expected ':' (2038120875.py, line 2)",
     "output_type": "error",
     "traceback": [
      "\u001b[1;36m  Cell \u001b[1;32mIn[18], line 2\u001b[1;36m\u001b[0m\n\u001b[1;33m    def __init__(self,name,roll,address)\u001b[0m\n\u001b[1;37m                                        ^\u001b[0m\n\u001b[1;31mSyntaxError\u001b[0m\u001b[1;31m:\u001b[0m expected ':'\n"
     ]
    }
   ],
   "source": [
    "import pickle\n",
    "def __init__(self,name,roll,address)\n",
    "    self.name=name\n",
    "    self.roll=roll\n",
    "    self.address=address\n",
    "    \n",
    "    "
   ]
  },
  {
   "cell_type": "code",
   "execution_count": 30,
   "id": "0fed7ee9",
   "metadata": {},
   "outputs": [
    {
     "name": "stdout",
     "output_type": "stream",
     "text": [
      "2.5\n",
      "Inside try\n",
      "Inside Else\n"
     ]
    }
   ],
   "source": [
    "a=10\n",
    "b=4\n",
    "try:\n",
    "    d=a/b\n",
    "    print(d)\n",
    "    print(\"Inside try\")\n",
    "except ZeroDivisionError:\n",
    "    print(\"ZeroDivisionError is not allowed\")\n",
    "else:\n",
    "    print('Inside Else')"
   ]
  },
  {
   "cell_type": "code",
   "execution_count": 32,
   "id": "4bba4d38",
   "metadata": {},
   "outputs": [
    {
     "name": "stdout",
     "output_type": "stream",
     "text": [
      "ZeroDivisionError is not allowed\n"
     ]
    }
   ],
   "source": [
    "a=9\n",
    "b=0\n",
    "try:\n",
    "    d=a/b\n",
    "    print(d)\n",
    "    print(\"Inside try\")\n",
    "except ZeroDivisionError:\n",
    "    print(\"ZeroDivisionError is not allowed\")\n",
    "else:\n",
    "    print('Inside Else')"
   ]
  },
  {
   "cell_type": "code",
   "execution_count": 35,
   "id": "ca499e04",
   "metadata": {},
   "outputs": [
    {
     "name": "stdout",
     "output_type": "stream",
     "text": [
      "ZeroDivisionError is not allowed\n",
      "Inside Finally\n",
      "Rest of the Code\n"
     ]
    }
   ],
   "source": [
    "a=9\n",
    "b=0\n",
    "try:\n",
    "    d=a/b\n",
    "    print(d)\n",
    "    print(\"Inside try\")\n",
    "except ZeroDivisionError:\n",
    "    print(\"ZeroDivisionError is not allowed\")\n",
    "else:\n",
    "    print('Inside Else')\n",
    "finally:\n",
    "    print('Inside Finally')\n",
    "print(\"Rest of the Code\")"
   ]
  },
  {
   "cell_type": "code",
   "execution_count": 36,
   "id": "6a6ebf23",
   "metadata": {},
   "outputs": [
    {
     "name": "stdout",
     "output_type": "stream",
     "text": [
      "0.1\n",
      "Inside try\n",
      "Inside Else\n",
      "Inside Finally\n",
      "Rest of the Code\n"
     ]
    }
   ],
   "source": [
    "a=9\n",
    "b=90\n",
    "try:\n",
    "    d=a/b\n",
    "    print(d)\n",
    "    print(\"Inside try\")\n",
    "except ZeroDivisionError:\n",
    "    print(\"ZeroDivisionError is not allowed\")\n",
    "else:\n",
    "    print('Inside Else')\n",
    "finally:\n",
    "    print('Inside Finally')\n",
    "print(\"Rest of the Code\")"
   ]
  },
  {
   "cell_type": "code",
   "execution_count": 52,
   "id": "5035bdee",
   "metadata": {},
   "outputs": [
    {
     "name": "stdout",
     "output_type": "stream",
     "text": [
      "division by zero\n"
     ]
    }
   ],
   "source": [
    "a=9\n",
    "x=0\n",
    "try:\n",
    "    c=a/x\n",
    "    d=a/g\n",
    "    print(d,c)\n",
    "except (NameError,ZeroDivisionError) as obj:\n",
    "    print(obj)\n"
   ]
  },
  {
   "cell_type": "code",
   "execution_count": null,
   "id": "ae54e4e9",
   "metadata": {},
   "outputs": [],
   "source": []
  },
  {
   "cell_type": "code",
   "execution_count": null,
   "id": "bfdc0dfd",
   "metadata": {},
   "outputs": [],
   "source": []
  }
 ],
 "metadata": {
  "kernelspec": {
   "display_name": "base",
   "language": "python",
   "name": "python3"
  },
  "language_info": {
   "codemirror_mode": {
    "name": "ipython",
    "version": 3
   },
   "file_extension": ".py",
   "mimetype": "text/x-python",
   "name": "python",
   "nbconvert_exporter": "python",
   "pygments_lexer": "ipython3",
   "version": "3.11.5"
  }
 },
 "nbformat": 4,
 "nbformat_minor": 5
}
